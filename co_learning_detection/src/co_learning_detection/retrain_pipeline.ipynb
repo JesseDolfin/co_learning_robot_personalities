{
 "cells": [
  {
   "cell_type": "code",
   "execution_count": 15,
   "metadata": {},
   "outputs": [],
   "source": [
    "import os\n",
    "import json\n",
    "import tensorflow as tf\n",
    "assert tf.__version__.startswith('2')\n",
    "\n",
    "import supervision as sv\n",
    "import cv2\n",
    "\n",
    "from mediapipe_model_maker import object_detector\n",
    "\n",
    "import random\n",
    "import shutil"
   ]
  },
  {
   "cell_type": "code",
   "execution_count": null,
   "metadata": {},
   "outputs": [],
   "source": [
    "# Define the path to the folder containing the individual JSON files\n",
    "folder_path = \"android_figurine/Blue_ball\"\n",
    "output_file = \"android_figurine/Blue_ball/labels.json\"\n",
    "\n",
    "# Define the category mapping for blue_ball\n",
    "category_mapping = {\n",
    "    \"blue_ball\": 1  # blue_ball with category_id 1\n",
    "}\n",
    "\n",
    "# Initialize the combined data structure\n",
    "combined_data = {\n",
    "    \"images\": [],\n",
    "    \"annotations\": [],\n",
    "    \"categories\": [\n",
    "        {\"id\": 0, \"name\": \"background\"},\n",
    "        {\"id\": 1, \"name\": \"blue_ball\"}\n",
    "    ]\n",
    "}\n",
    "\n",
    "# Initialize counters for image and annotation IDs\n",
    "image_id_counter = 0\n",
    "annotation_id_counter = 0\n",
    "\n",
    "# Iterate through each JSON file in the folder\n",
    "for json_file in os.listdir(folder_path):\n",
    "    if json_file.endswith(\".json\"):\n",
    "        with open(os.path.join(folder_path, json_file), \"r\") as file:\n",
    "            data = json.load(file)\n",
    "            \n",
    "            # Check if data is a list\n",
    "            if isinstance(data, list):\n",
    "                # Process the list of dictionaries\n",
    "                for entry in data:\n",
    "                    # Get image file name\n",
    "                    image_file_name = entry.get(\"image\", None)\n",
    "                    \n",
    "                    if not image_file_name:\n",
    "                        print(f\"Skipping file {json_file}: 'image' key not found.\")\n",
    "                        continue\n",
    "                    \n",
    "                    # Add image information\n",
    "                    combined_data[\"images\"].append({\n",
    "                        \"id\": image_id_counter,\n",
    "                        \"file_name\": image_file_name\n",
    "                    })\n",
    "                    \n",
    "                    # Process annotations\n",
    "                    annotations = entry.get(\"annotations\", [])\n",
    "                    for annotation in annotations:\n",
    "                        label = annotation.get(\"label\", None)\n",
    "                        coordinates = annotation.get(\"coordinates\", None)\n",
    "                        \n",
    "                        if not label or not coordinates:\n",
    "                            print(f\"Skipping annotation in {json_file}: 'label' or 'coordinates' key not found.\")\n",
    "                            continue\n",
    "                        \n",
    "                        # Map the label (always \"blue_ball\") to category_id 1\n",
    "                        category_id = category_mapping.get(label, 0)  # Should map to 1 (blue_ball)\n",
    "                        \n",
    "                        # Extract bounding box in COCO format [x_min, y_min, width, height]\n",
    "                        bbox = [\n",
    "                            coordinates[\"x\"] - coordinates[\"width\"] / 2,  # x_min\n",
    "                            coordinates[\"y\"] - coordinates[\"height\"] / 2,  # y_min\n",
    "                            coordinates[\"width\"],  # width\n",
    "                            coordinates[\"height\"]  # height\n",
    "                        ]\n",
    "                        \n",
    "                        # Append the annotation to combined data\n",
    "                        combined_data[\"annotations\"].append({\n",
    "                            \"image_id\": image_id_counter,\n",
    "                            \"bbox\": bbox,\n",
    "                            \"category_id\": category_id\n",
    "                        })\n",
    "                        \n",
    "                        # Increment annotation ID\n",
    "                        annotation_id_counter += 1\n",
    "                    \n",
    "                    # Increment image ID\n",
    "                    image_id_counter += 1\n",
    "            else:\n",
    "                print(f\"Skipping file {json_file}: Expected a list but got {type(data)}\")\n",
    "\n",
    "# Save the combined JSON file\n",
    "with open(output_file, \"w\") as output:\n",
    "    json.dump(combined_data, output, indent=4)\n",
    "\n",
    "print(f\"Combined JSON saved to {output_file}\")"
   ]
  },
  {
   "cell_type": "code",
   "execution_count": 14,
   "metadata": {},
   "outputs": [],
   "source": [
    "#Augmentation here\n"
   ]
  },
  {
   "cell_type": "code",
   "execution_count": null,
   "metadata": {},
   "outputs": [],
   "source": [
    "with open(os.path.join('android_figurine/Blue_ball', \"labels.json\"), \"r\") as f:\n",
    "  labels_json = json.load(f)\n",
    "for category_item in labels_json[\"categories\"]:\n",
    "  print(f\"{category_item['id']}: {category_item['name']}\")\n"
   ]
  },
  {
   "cell_type": "code",
   "execution_count": 18,
   "metadata": {},
   "outputs": [],
   "source": [
    "# Paths\n",
    "original_images_path = \"android_figurine/Blue_ball\"\n",
    "train_images_path = \"android_figurine/Blue_ball/train\"\n",
    "val_images_path = \"android_figurine/Blue_ball/val\"\n",
    "labels_path = \"android_figurine/Blue_ball/labels.json\"\n",
    "\n",
    "# Load labels.json\n",
    "with open(labels_path, 'r') as file:\n",
    "    data = json.load(file)\n",
    "\n",
    "# Create Training and Validation Folders if they don't exist\n",
    "os.makedirs(train_images_path, exist_ok=True)\n",
    "os.makedirs(val_images_path, exist_ok=True)\n",
    "\n",
    "# List of image filenames\n",
    "image_filenames = [img[\"file_name\"] for img in data[\"images\"]]\n",
    "\n",
    "# Shuffle and split\n",
    "random.shuffle(image_filenames)\n",
    "split_idx = int(len(image_filenames) * 0.8)  # 80% train, 20% val\n",
    "\n",
    "train_filenames = image_filenames[:split_idx]\n",
    "val_filenames = image_filenames[split_idx:]\n",
    "\n",
    "# Move Images\n",
    "for filename in train_filenames:\n",
    "    src = os.path.join(original_images_path, filename)\n",
    "    dst = os.path.join(train_images_path, filename)\n",
    "    if os.path.exists(src):\n",
    "        shutil.move(src, dst)\n",
    "    else:\n",
    "        print(f\"File not found: {src}\")\n",
    "\n",
    "for filename in val_filenames:\n",
    "    src = os.path.join(original_images_path, filename)\n",
    "    dst = os.path.join(val_images_path, filename)\n",
    "    if os.path.exists(src):\n",
    "        shutil.move(src, dst)\n",
    "    else:\n",
    "        print(f\"File not found: {src}\")\n",
    "\n",
    "# Update labels.json\n",
    "train_data = {\"images\": [], \"annotations\": [], \"categories\": data[\"categories\"]}\n",
    "val_data = {\"images\": [], \"annotations\": [], \"categories\": data[\"categories\"]}\n",
    "\n",
    "train_image_ids = set()\n",
    "val_image_ids = set()\n",
    "\n",
    "for img in data[\"images\"]:\n",
    "    if img[\"file_name\"] in train_filenames:\n",
    "        train_data[\"images\"].append(img)\n",
    "        train_image_ids.add(img[\"id\"])\n",
    "    elif img[\"file_name\"] in val_filenames:\n",
    "        val_data[\"images\"].append(img)\n",
    "        val_image_ids.add(img[\"id\"])\n",
    "\n",
    "for ann in data[\"annotations\"]:\n",
    "    if ann[\"image_id\"] in train_image_ids:\n",
    "        train_data[\"annotations\"].append(ann)\n",
    "    elif ann[\"image_id\"] in val_image_ids:\n",
    "        val_data[\"annotations\"].append(ann)\n",
    "\n",
    "# Save updated JSON files\n",
    "with open(\"android_figurine/Blue_ball/train_labels.json\", 'w') as file:\n",
    "    json.dump(train_data, file, indent=4)\n",
    "\n",
    "with open(\"android_figurine/Blue_ball/val_labels.json\", 'w') as file:\n",
    "    json.dump(val_data, file, indent=4)\n",
    "\n"
   ]
  },
  {
   "cell_type": "code",
   "execution_count": null,
   "metadata": {},
   "outputs": [],
   "source": [
    "train_data = object_detector.Dataset.from_coco_folder(\"android_figurine/Blue_ball/train/\", cache_dir=\"/tmp/od_data/train\")\n",
    "validation_data = object_detector.Dataset.from_coco_folder(val_images_path, cache_dir=\"/tmp/od_data/validation\")\n",
    "print(\"train_data size: \", train_data.size)\n",
    "print(\"validation_data size: \", validation_data.size)\n"
   ]
  },
  {
   "cell_type": "code",
   "execution_count": 26,
   "metadata": {},
   "outputs": [],
   "source": [
    "spec = object_detector.SupportedModels.MOBILENET_MULTI_AVG\n",
    "hparams = object_detector.HParams(export_dir='exported_model')\n",
    "options = object_detector.ObjectDetectorOptions(\n",
    "    supported_model=spec,\n",
    "    hparams=hparams\n",
    ")"
   ]
  },
  {
   "cell_type": "code",
   "execution_count": null,
   "metadata": {},
   "outputs": [],
   "source": [
    "model = object_detector.ObjectDetector.create(\n",
    "    train_data=train_data,\n",
    "    validation_data=validation_data,\n",
    "    options=options)\n"
   ]
  },
  {
   "cell_type": "code",
   "execution_count": null,
   "metadata": {},
   "outputs": [],
   "source": [
    "loss, coco_metrics = model.evaluate(validation_data, batch_size=4)\n",
    "print(f\"Validation loss: {loss}\")\n",
    "print(f\"Validation coco metrics: {coco_metrics}\")\n"
   ]
  },
  {
   "cell_type": "code",
   "execution_count": null,
   "metadata": {},
   "outputs": [],
   "source": [
    "model.export_model()"
   ]
  },
  {
   "cell_type": "code",
   "execution_count": null,
   "metadata": {},
   "outputs": [],
   "source": [
    "qat_hparams = object_detector.QATHParams(learning_rate=0.3, batch_size=4, epochs=10, decay_steps=6, decay_rate=0.96)\n",
    "model.quantization_aware_training(train_data, validation_data, qat_hparams=qat_hparams)\n",
    "qat_loss, qat_coco_metrics = model.evaluate(validation_data)\n",
    "print(f\"QAT validation loss: {qat_loss}\")\n",
    "print(f\"QAT validation coco metrics: {qat_coco_metrics}\")\n",
    "# Quantization seems to significiantly reduce results! Skip quantization for the real model"
   ]
  },
  {
   "cell_type": "code",
   "execution_count": null,
   "metadata": {},
   "outputs": [],
   "source": [
    "new_qat_hparams = object_detector.QATHParams(learning_rate=0.9, batch_size=4, epochs=15, decay_steps=5, decay_rate=0.96)\n",
    "model.restore_float_ckpt()\n",
    "model.quantization_aware_training(train_data, validation_data, qat_hparams=new_qat_hparams)\n",
    "qat_loss, qat_coco_metrics = model.evaluate(validation_data)\n",
    "print(f\"QAT validation loss: {qat_loss}\")\n",
    "print(f\"QAT validation coco metrics: {qat_coco_metrics}\")\n"
   ]
  },
  {
   "cell_type": "code",
   "execution_count": null,
   "metadata": {},
   "outputs": [],
   "source": [
    "model.export_model('model_int8_qat.tflite')"
   ]
  },
  {
   "cell_type": "code",
   "execution_count": null,
   "metadata": {},
   "outputs": [],
   "source": [
    "from mediapipe_model_maker import quantization\n",
    "quantization_config = quantization.QuantizationConfig.for_float16()\n",
    "model.restore_float_ckpt()\n",
    "model.export_model(model_name=\"model_fp16.tflite\", quantization_config=quantization_config)"
   ]
  },
  {
   "cell_type": "code",
   "execution_count": null,
   "metadata": {},
   "outputs": [],
   "source": [
    "qat_loss, qat_coco_metrics = model.evaluate(validation_data)\n",
    "# The post-training quantization step seems to have no effect on the model evaluation, but it should make the model faster so ALWAYS include this step!"
   ]
  }
 ],
 "metadata": {
  "kernelspec": {
   "display_name": "Python 3",
   "language": "python",
   "name": "python3"
  },
  "language_info": {
   "codemirror_mode": {
    "name": "ipython",
    "version": 3
   },
   "file_extension": ".py",
   "mimetype": "text/x-python",
   "name": "python",
   "nbconvert_exporter": "python",
   "pygments_lexer": "ipython3",
   "version": "3.8.10"
  }
 },
 "nbformat": 4,
 "nbformat_minor": 2
}
